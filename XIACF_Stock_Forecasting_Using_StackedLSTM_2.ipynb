{
 "cells": [
  {
   "cell_type": "code",
   "execution_count": 2,
   "id": "459231a5",
   "metadata": {},
   "outputs": [],
   "source": [
    "import pandas_datareader as pdr\n",
    "import pandas as pd\n",
    "import numpy as np\n",
    "import matplotlib.pyplot as plt\n",
    "import seaborn as sns\n",
    "import math\n",
    "\n",
    "from sklearn.preprocessing import MinMaxScaler\n",
    "from sklearn.metrics import mean_squared_error\n",
    "\n",
    "from tensorflow.keras.layers import LSTM, Dense\n",
    "from tensorflow.keras.models import Sequential"
   ]
  },
  {
   "cell_type": "raw",
   "id": "a049c5ab",
   "metadata": {},
   "source": [
    "#type your key\n",
    "key = ''"
   ]
  },
  {
   "cell_type": "raw",
   "id": "a24920b5",
   "metadata": {},
   "source": [
    "#fetch stock data using tiingo API\n",
    "df = pdr.get_data_tiingo('XIACF', api_key = key)"
   ]
  },
  {
   "cell_type": "code",
   "execution_count": 3,
   "id": "c7962f1a",
   "metadata": {},
   "outputs": [
    {
     "data": {
      "text/html": [
       "<div>\n",
       "<style scoped>\n",
       "    .dataframe tbody tr th:only-of-type {\n",
       "        vertical-align: middle;\n",
       "    }\n",
       "\n",
       "    .dataframe tbody tr th {\n",
       "        vertical-align: top;\n",
       "    }\n",
       "\n",
       "    .dataframe thead th {\n",
       "        text-align: right;\n",
       "    }\n",
       "</style>\n",
       "<table border=\"1\" class=\"dataframe\">\n",
       "  <thead>\n",
       "    <tr style=\"text-align: right;\">\n",
       "      <th></th>\n",
       "      <th>symbol</th>\n",
       "      <th>date</th>\n",
       "      <th>close</th>\n",
       "      <th>high</th>\n",
       "      <th>low</th>\n",
       "      <th>open</th>\n",
       "      <th>volume</th>\n",
       "      <th>adjClose</th>\n",
       "      <th>adjHigh</th>\n",
       "      <th>adjLow</th>\n",
       "      <th>adjOpen</th>\n",
       "      <th>adjVolume</th>\n",
       "      <th>divCash</th>\n",
       "      <th>splitFactor</th>\n",
       "    </tr>\n",
       "  </thead>\n",
       "  <tbody>\n",
       "    <tr>\n",
       "      <th>0</th>\n",
       "      <td>XIACF</td>\n",
       "      <td>2018-08-21 00:00:00+00:00</td>\n",
       "      <td>2.30</td>\n",
       "      <td>2.30</td>\n",
       "      <td>2.30</td>\n",
       "      <td>2.30</td>\n",
       "      <td>8784200</td>\n",
       "      <td>2.30</td>\n",
       "      <td>2.30</td>\n",
       "      <td>2.30</td>\n",
       "      <td>2.30</td>\n",
       "      <td>8784200</td>\n",
       "      <td>0.0</td>\n",
       "      <td>1.0</td>\n",
       "    </tr>\n",
       "    <tr>\n",
       "      <th>1</th>\n",
       "      <td>XIACF</td>\n",
       "      <td>2018-08-22 00:00:00+00:00</td>\n",
       "      <td>2.70</td>\n",
       "      <td>3.50</td>\n",
       "      <td>2.27</td>\n",
       "      <td>2.30</td>\n",
       "      <td>116872</td>\n",
       "      <td>2.70</td>\n",
       "      <td>3.50</td>\n",
       "      <td>2.27</td>\n",
       "      <td>2.30</td>\n",
       "      <td>116872</td>\n",
       "      <td>0.0</td>\n",
       "      <td>1.0</td>\n",
       "    </tr>\n",
       "    <tr>\n",
       "      <th>2</th>\n",
       "      <td>XIACF</td>\n",
       "      <td>2018-08-23 00:00:00+00:00</td>\n",
       "      <td>2.35</td>\n",
       "      <td>3.00</td>\n",
       "      <td>2.20</td>\n",
       "      <td>2.68</td>\n",
       "      <td>7406506</td>\n",
       "      <td>2.35</td>\n",
       "      <td>3.00</td>\n",
       "      <td>2.20</td>\n",
       "      <td>2.68</td>\n",
       "      <td>7406506</td>\n",
       "      <td>0.0</td>\n",
       "      <td>1.0</td>\n",
       "    </tr>\n",
       "    <tr>\n",
       "      <th>3</th>\n",
       "      <td>XIACF</td>\n",
       "      <td>2018-08-24 00:00:00+00:00</td>\n",
       "      <td>2.22</td>\n",
       "      <td>2.60</td>\n",
       "      <td>2.22</td>\n",
       "      <td>2.60</td>\n",
       "      <td>4898137</td>\n",
       "      <td>2.22</td>\n",
       "      <td>2.60</td>\n",
       "      <td>2.22</td>\n",
       "      <td>2.60</td>\n",
       "      <td>4898137</td>\n",
       "      <td>0.0</td>\n",
       "      <td>1.0</td>\n",
       "    </tr>\n",
       "    <tr>\n",
       "      <th>4</th>\n",
       "      <td>XIACF</td>\n",
       "      <td>2018-08-27 00:00:00+00:00</td>\n",
       "      <td>2.35</td>\n",
       "      <td>2.65</td>\n",
       "      <td>2.23</td>\n",
       "      <td>2.30</td>\n",
       "      <td>105011</td>\n",
       "      <td>2.35</td>\n",
       "      <td>2.65</td>\n",
       "      <td>2.23</td>\n",
       "      <td>2.30</td>\n",
       "      <td>105011</td>\n",
       "      <td>0.0</td>\n",
       "      <td>1.0</td>\n",
       "    </tr>\n",
       "  </tbody>\n",
       "</table>\n",
       "</div>"
      ],
      "text/plain": [
       "  symbol                       date  close  high   low  open   volume  \\\n",
       "0  XIACF  2018-08-21 00:00:00+00:00   2.30  2.30  2.30  2.30  8784200   \n",
       "1  XIACF  2018-08-22 00:00:00+00:00   2.70  3.50  2.27  2.30   116872   \n",
       "2  XIACF  2018-08-23 00:00:00+00:00   2.35  3.00  2.20  2.68  7406506   \n",
       "3  XIACF  2018-08-24 00:00:00+00:00   2.22  2.60  2.22  2.60  4898137   \n",
       "4  XIACF  2018-08-27 00:00:00+00:00   2.35  2.65  2.23  2.30   105011   \n",
       "\n",
       "   adjClose  adjHigh  adjLow  adjOpen  adjVolume  divCash  splitFactor  \n",
       "0      2.30     2.30    2.30     2.30    8784200      0.0          1.0  \n",
       "1      2.70     3.50    2.27     2.30     116872      0.0          1.0  \n",
       "2      2.35     3.00    2.20     2.68    7406506      0.0          1.0  \n",
       "3      2.22     2.60    2.22     2.60    4898137      0.0          1.0  \n",
       "4      2.35     2.65    2.23     2.30     105011      0.0          1.0  "
      ]
     },
     "execution_count": 3,
     "metadata": {},
     "output_type": "execute_result"
    }
   ],
   "source": [
    "#df.to_csv('XIACF.csv') --> for saving the data into csv format\n",
    "df = pd.read_csv('XIACF.csv')\n",
    "df.head()"
   ]
  },
  {
   "cell_type": "code",
   "execution_count": 4,
   "id": "8f074a47",
   "metadata": {},
   "outputs": [
    {
     "data": {
      "text/plain": [
       "(762, 14)"
      ]
     },
     "execution_count": 4,
     "metadata": {},
     "output_type": "execute_result"
    }
   ],
   "source": [
    "df.shape"
   ]
  },
  {
   "cell_type": "code",
   "execution_count": 5,
   "id": "d5e6fe4d",
   "metadata": {},
   "outputs": [
    {
     "data": {
      "text/plain": [
       "0      2.3000\n",
       "1      2.7000\n",
       "2      2.3500\n",
       "3      2.2200\n",
       "4      2.3500\n",
       "        ...  \n",
       "757    3.3400\n",
       "758    3.1800\n",
       "759    3.2100\n",
       "760    3.2399\n",
       "761    3.2000\n",
       "Name: close, Length: 762, dtype: float64"
      ]
     },
     "execution_count": 5,
     "metadata": {},
     "output_type": "execute_result"
    }
   ],
   "source": [
    "df_close = df.reset_index()['close']\n",
    "df_close"
   ]
  },
  {
   "cell_type": "code",
   "execution_count": 6,
   "id": "b1727aba",
   "metadata": {},
   "outputs": [
    {
     "data": {
      "text/plain": [
       "[<matplotlib.lines.Line2D at 0x21b08eec108>]"
      ]
     },
     "execution_count": 6,
     "metadata": {},
     "output_type": "execute_result"
    },
    {
     "data": {
      "image/png": "[encoded data removed]",
      "text/plain": [
       "<Figure size 432x288 with 1 Axes>"
      ]
     },
     "metadata": {
      "needs_background": "light"
     },
     "output_type": "display_data"
    }
   ],
   "source": [
    "plt.plot(df_close)"
   ]
  },
  {
   "cell_type": "code",
   "execution_count": null,
   "id": "a736bb55",
   "metadata": {},
   "outputs": [],
   "source": []
  }
 ],
 "metadata": {
  "kernelspec": {
   "display_name": "Python 3 (ipykernel)",
   "language": "python",
   "name": "python3"
  },
  "language_info": {
   "codemirror_mode": {
    "name": "ipython",
    "version": 3
   },
   "file_extension": ".py",
   "mimetype": "text/x-python",
   "name": "python",
   "nbconvert_exporter": "python",
   "pygments_lexer": "ipython3",
   "version": "3.7.11"
  }
 },
 "nbformat": 4,
 "nbformat_minor": 5
}
