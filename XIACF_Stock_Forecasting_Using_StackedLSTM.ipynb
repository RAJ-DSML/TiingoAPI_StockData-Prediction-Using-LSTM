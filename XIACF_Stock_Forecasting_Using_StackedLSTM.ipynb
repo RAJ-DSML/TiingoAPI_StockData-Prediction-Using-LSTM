{
 "cells": [
  {
   "cell_type": "code",
   "execution_count": 1,
   "id": "459231a5",
   "metadata": {},
   "outputs": [
    {
     "name": "stderr",
     "output_type": "stream",
     "text": [
      "C:\\Users\\raajk\\anaconda3\\envs\\tf2.5\\lib\\site-packages\\numpy\\_distributor_init.py:30: UserWarning: loaded more than 1 DLL from .libs:\n",
      "C:\\Users\\raajk\\anaconda3\\envs\\tf2.5\\lib\\site-packages\\numpy\\.libs\\libopenblas.WCDJNK7YVMPZQ2ME2ZZHJJRJ3JIKNDB7.gfortran-win_amd64.dll\n",
      "C:\\Users\\raajk\\anaconda3\\envs\\tf2.5\\lib\\site-packages\\numpy\\.libs\\libopenblas.xwydx2ikjw2nmtwsfyngfuwkqu3lytcz.gfortran-win_amd64.dll\n",
      "  warnings.warn(\"loaded more than 1 DLL from .libs:\"\n"
     ]
    }
   ],
   "source": [
    "import pandas_datareader as pdr\n",
    "import pandas as pd\n",
    "import numpy as np\n",
    "import matplotlib.pyplot as plt\n",
    "import seaborn as sns"
   ]
  },
  {
   "cell_type": "code",
   "execution_count": 2,
   "id": "ee7ac4ae",
   "metadata": {},
   "outputs": [],
   "source": [
    "#type your key\n",
    "key = ''"
   ]
  },
  {
   "cell_type": "code",
   "execution_count": 4,
   "id": "6d969bab",
   "metadata": {},
   "outputs": [
    {
     "name": "stderr",
     "output_type": "stream",
     "text": [
      "C:\\Users\\raajk\\anaconda3\\envs\\tf2.5\\lib\\site-packages\\pandas_datareader\\tiingo.py:234: FutureWarning: In a future version of pandas all arguments of concat except for the argument 'objs' will be keyword-only\n",
      "  return pd.concat(dfs, self._concat_axis)\n"
     ]
    }
   ],
   "source": [
    "df = pdr.get_data_tiingo('XIACF', api_key = key)"
   ]
  },
  {
   "cell_type": "code",
   "execution_count": 6,
   "id": "c7962f1a",
   "metadata": {},
   "outputs": [
    {
     "data": {
      "text/html": [
       "<div>\n",
       "<style scoped>\n",
       "    .dataframe tbody tr th:only-of-type {\n",
       "        vertical-align: middle;\n",
       "    }\n",
       "\n",
       "    .dataframe tbody tr th {\n",
       "        vertical-align: top;\n",
       "    }\n",
       "\n",
       "    .dataframe thead th {\n",
       "        text-align: right;\n",
       "    }\n",
       "</style>\n",
       "<table border=\"1\" class=\"dataframe\">\n",
       "  <thead>\n",
       "    <tr style=\"text-align: right;\">\n",
       "      <th></th>\n",
       "      <th>symbol</th>\n",
       "      <th>date</th>\n",
       "      <th>close</th>\n",
       "      <th>high</th>\n",
       "      <th>low</th>\n",
       "      <th>open</th>\n",
       "      <th>volume</th>\n",
       "      <th>adjClose</th>\n",
       "      <th>adjHigh</th>\n",
       "      <th>adjLow</th>\n",
       "      <th>adjOpen</th>\n",
       "      <th>adjVolume</th>\n",
       "      <th>divCash</th>\n",
       "      <th>splitFactor</th>\n",
       "    </tr>\n",
       "  </thead>\n",
       "  <tbody>\n",
       "    <tr>\n",
       "      <th>0</th>\n",
       "      <td>XIACF</td>\n",
       "      <td>2018-08-21 00:00:00+00:00</td>\n",
       "      <td>2.30</td>\n",
       "      <td>2.30</td>\n",
       "      <td>2.30</td>\n",
       "      <td>2.30</td>\n",
       "      <td>8784200</td>\n",
       "      <td>2.30</td>\n",
       "      <td>2.30</td>\n",
       "      <td>2.30</td>\n",
       "      <td>2.30</td>\n",
       "      <td>8784200</td>\n",
       "      <td>0.0</td>\n",
       "      <td>1.0</td>\n",
       "    </tr>\n",
       "    <tr>\n",
       "      <th>1</th>\n",
       "      <td>XIACF</td>\n",
       "      <td>2018-08-22 00:00:00+00:00</td>\n",
       "      <td>2.70</td>\n",
       "      <td>3.50</td>\n",
       "      <td>2.27</td>\n",
       "      <td>2.30</td>\n",
       "      <td>116872</td>\n",
       "      <td>2.70</td>\n",
       "      <td>3.50</td>\n",
       "      <td>2.27</td>\n",
       "      <td>2.30</td>\n",
       "      <td>116872</td>\n",
       "      <td>0.0</td>\n",
       "      <td>1.0</td>\n",
       "    </tr>\n",
       "    <tr>\n",
       "      <th>2</th>\n",
       "      <td>XIACF</td>\n",
       "      <td>2018-08-23 00:00:00+00:00</td>\n",
       "      <td>2.35</td>\n",
       "      <td>3.00</td>\n",
       "      <td>2.20</td>\n",
       "      <td>2.68</td>\n",
       "      <td>7406506</td>\n",
       "      <td>2.35</td>\n",
       "      <td>3.00</td>\n",
       "      <td>2.20</td>\n",
       "      <td>2.68</td>\n",
       "      <td>7406506</td>\n",
       "      <td>0.0</td>\n",
       "      <td>1.0</td>\n",
       "    </tr>\n",
       "    <tr>\n",
       "      <th>3</th>\n",
       "      <td>XIACF</td>\n",
       "      <td>2018-08-24 00:00:00+00:00</td>\n",
       "      <td>2.22</td>\n",
       "      <td>2.60</td>\n",
       "      <td>2.22</td>\n",
       "      <td>2.60</td>\n",
       "      <td>4898137</td>\n",
       "      <td>2.22</td>\n",
       "      <td>2.60</td>\n",
       "      <td>2.22</td>\n",
       "      <td>2.60</td>\n",
       "      <td>4898137</td>\n",
       "      <td>0.0</td>\n",
       "      <td>1.0</td>\n",
       "    </tr>\n",
       "    <tr>\n",
       "      <th>4</th>\n",
       "      <td>XIACF</td>\n",
       "      <td>2018-08-27 00:00:00+00:00</td>\n",
       "      <td>2.35</td>\n",
       "      <td>2.65</td>\n",
       "      <td>2.23</td>\n",
       "      <td>2.30</td>\n",
       "      <td>105011</td>\n",
       "      <td>2.35</td>\n",
       "      <td>2.65</td>\n",
       "      <td>2.23</td>\n",
       "      <td>2.30</td>\n",
       "      <td>105011</td>\n",
       "      <td>0.0</td>\n",
       "      <td>1.0</td>\n",
       "    </tr>\n",
       "  </tbody>\n",
       "</table>\n",
       "</div>"
      ],
      "text/plain": [
       "  symbol                       date  close  high   low  open   volume  \\\n",
       "0  XIACF  2018-08-21 00:00:00+00:00   2.30  2.30  2.30  2.30  8784200   \n",
       "1  XIACF  2018-08-22 00:00:00+00:00   2.70  3.50  2.27  2.30   116872   \n",
       "2  XIACF  2018-08-23 00:00:00+00:00   2.35  3.00  2.20  2.68  7406506   \n",
       "3  XIACF  2018-08-24 00:00:00+00:00   2.22  2.60  2.22  2.60  4898137   \n",
       "4  XIACF  2018-08-27 00:00:00+00:00   2.35  2.65  2.23  2.30   105011   \n",
       "\n",
       "   adjClose  adjHigh  adjLow  adjOpen  adjVolume  divCash  splitFactor  \n",
       "0      2.30     2.30    2.30     2.30    8784200      0.0          1.0  \n",
       "1      2.70     3.50    2.27     2.30     116872      0.0          1.0  \n",
       "2      2.35     3.00    2.20     2.68    7406506      0.0          1.0  \n",
       "3      2.22     2.60    2.22     2.60    4898137      0.0          1.0  \n",
       "4      2.35     2.65    2.23     2.30     105011      0.0          1.0  "
      ]
     },
     "execution_count": 6,
     "metadata": {},
     "output_type": "execute_result"
    }
   ],
   "source": [
    "df.to_csv('XIACF.csv')\n",
    "df = pd.read_csv('XIACF.csv')\n",
    "df.head()"
   ]
  },
  {
   "cell_type": "code",
   "execution_count": null,
   "id": "d5e6fe4d",
   "metadata": {},
   "outputs": [],
   "source": []
  }
 ],
 "metadata": {
  "kernelspec": {
   "display_name": "Python 3 (ipykernel)",
   "language": "python",
   "name": "python3"
  },
  "language_info": {
   "codemirror_mode": {
    "name": "ipython",
    "version": 3
   },
   "file_extension": ".py",
   "mimetype": "text/x-python",
   "name": "python",
   "nbconvert_exporter": "python",
   "pygments_lexer": "ipython3",
   "version": "3.8.0"
  }
 },
 "nbformat": 4,
 "nbformat_minor": 5
}
